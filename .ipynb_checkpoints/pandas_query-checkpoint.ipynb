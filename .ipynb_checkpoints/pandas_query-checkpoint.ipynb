{
 "cells": [
  {
   "cell_type": "markdown",
   "metadata": {},
   "source": [
    "## Como usar o query do pandas?\n",
    "\n",
    "*Aprenda a utilizar o método query do pandas para fazer consulta nos datasets.*\n",
    "\n",
    "Fala galera, tudo certo?\n",
    "\n",
    "Hoje decidi escrever sobre este método de consulta, ele aparece de forma constante em meus estudos e me despertou grande curiosidade para ir atrás e estudar mais sobre.\n",
    "\n",
    "### Antes de tudo:\n",
    "\n",
    "Para acompanhar o passo a passo, disponibilizo todos os arquivos que você precisa:\n",
    "\n",
    "Este é o dataset que será utilizado: [Avocado Prices](https://www.kaggle.com/neuromusic/avocado-prices)\n",
    "\n",
    "E o código do tutorial você [encontra aqui!](https://github.com/matheusbattisti/pandas_query)\n",
    "\n",
    "### loc e i loc:\n",
    "\n",
    "Além do *query*, temos também estas duas formas excelentes para nos auxiliar na busca de dados no dataset.\n",
    "\n",
    "A diferença do *query* para estes é que podemos utilizar uma expressão para encontrar o que buscamos, muito semelhante as queries de SQL.\n",
    "\n",
    "Já o loc é primariamente label based, escolhemos as colunas pelo seu nome (label) e fazemos a busca com uma condição, e o iloc é index based, com este escolhemos as porções do dataset de acordo com a posição dos índices e uma condição.\n",
    "\n",
    "Escrevi um post dedicado apenas a *loc e iloc*, se despertou sua curiosidade [confere aqui!](https://medium.com/matheusbudkewicz/data-science-tips-02-como-usar-loc-e-iloc-no-pandas-fab58e214d87)\n",
    "\n",
    "### Funcionamento do query:\n",
    "\n",
    "Por baixo dos panos os resultados do *query* são passados para um DataFrame.loc e então é nos retornado o resultado, basicamente o retorno de *query* é do mesmo tipo do que o de *loc*.\n",
    "\n",
    "Além disso o metodo *pandas.eval()* é utilizado no processo também, para avaliar a query solicitada.\n",
    "\n",
    "Para mais detalhes, veja a [documentação.](https://pandas.pydata.org/pandas-docs/stable/generated/pandas.DataFrame.query.html)\n",
    "\n",
    "### Sintaxe do query:\n",
    "\n",
    "Vamos entender como podemos utilizar o método:"
   ]
  },
  {
   "cell_type": "code",
   "execution_count": 2,
   "metadata": {
    "scrolled": true
   },
   "outputs": [
    {
     "data": {
      "text/html": [
       "<div>\n",
       "<style scoped>\n",
       "    .dataframe tbody tr th:only-of-type {\n",
       "        vertical-align: middle;\n",
       "    }\n",
       "\n",
       "    .dataframe tbody tr th {\n",
       "        vertical-align: top;\n",
       "    }\n",
       "\n",
       "    .dataframe thead th {\n",
       "        text-align: right;\n",
       "    }\n",
       "</style>\n",
       "<table border=\"1\" class=\"dataframe\">\n",
       "  <thead>\n",
       "    <tr style=\"text-align: right;\">\n",
       "      <th></th>\n",
       "      <th>a</th>\n",
       "      <th>b</th>\n",
       "    </tr>\n",
       "  </thead>\n",
       "  <tbody>\n",
       "    <tr>\n",
       "      <th>1</th>\n",
       "      <td>2.504315</td>\n",
       "      <td>-0.903932</td>\n",
       "    </tr>\n",
       "    <tr>\n",
       "      <th>2</th>\n",
       "      <td>2.563634</td>\n",
       "      <td>-0.016569</td>\n",
       "    </tr>\n",
       "    <tr>\n",
       "      <th>6</th>\n",
       "      <td>0.456947</td>\n",
       "      <td>-1.138274</td>\n",
       "    </tr>\n",
       "    <tr>\n",
       "      <th>7</th>\n",
       "      <td>1.172020</td>\n",
       "      <td>0.170844</td>\n",
       "    </tr>\n",
       "    <tr>\n",
       "      <th>8</th>\n",
       "      <td>0.615441</td>\n",
       "      <td>-0.925126</td>\n",
       "    </tr>\n",
       "  </tbody>\n",
       "</table>\n",
       "</div>"
      ],
      "text/plain": [
       "          a         b\n",
       "1  2.504315 -0.903932\n",
       "2  2.563634 -0.016569\n",
       "6  0.456947 -1.138274\n",
       "7  1.172020  0.170844\n",
       "8  0.615441 -0.925126"
      ]
     },
     "execution_count": 2,
     "metadata": {},
     "output_type": "execute_result"
    }
   ],
   "source": [
    "# Importando as libs necessárias para o post\n",
    "import pandas as pd\n",
    "from numpy.random import randn\n",
    "\n",
    "# Criando um dataset genérico\n",
    "df = pd.DataFrame(randn(10, 2), columns=list('ab'))\n",
    "\n",
    "# Executando a query\n",
    "df.query('a >  b')"
   ]
  },
  {
   "cell_type": "markdown",
   "metadata": {},
   "source": [
    "#### df:\n",
    "\n",
    "Aqui utilizamos nosso conjunto de dados, o que vamos aplicar a *query*.\n",
    "\n",
    "#### query():\n",
    "\n",
    "Chamamos o metodo *query()* no nosso conjunto de dados.\n",
    "\n",
    "#### 'a > b':\n",
    "\n",
    "Esta é a nossa expressão, no caso estamos solicitando todos os dados em que a é maior que b.\n",
    "\n",
    "#### inplace:\n",
    "\n",
    "Após a expressão o método *query*, aceita o método inplace para aplicar as modificações que fizermos no dataset, mas por default este é False."
   ]
  }
 ],
 "metadata": {
  "kernelspec": {
   "display_name": "Python 3",
   "language": "python",
   "name": "python3"
  },
  "language_info": {
   "codemirror_mode": {
    "name": "ipython",
    "version": 3
   },
   "file_extension": ".py",
   "mimetype": "text/x-python",
   "name": "python",
   "nbconvert_exporter": "python",
   "pygments_lexer": "ipython3",
   "version": "3.6.4"
  }
 },
 "nbformat": 4,
 "nbformat_minor": 2
}
